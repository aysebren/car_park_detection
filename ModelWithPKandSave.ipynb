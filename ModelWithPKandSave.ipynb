{
  "nbformat": 4,
  "nbformat_minor": 0,
  "metadata": {
    "colab": {
      "provenance": [],
      "include_colab_link": true
    },
    "kernelspec": {
      "name": "python3",
      "display_name": "Python 3"
    },
    "accelerator": "GPU"
  },
  "cells": [
    {
      "cell_type": "markdown",
      "metadata": {
        "id": "view-in-github",
        "colab_type": "text"
      },
      "source": [
        "<a href=\"https://colab.research.google.com/github/aysebren/car_park_detection/blob/master/ModelWithPKandSave.ipynb\" target=\"_parent\"><img src=\"https://colab.research.google.com/assets/colab-badge.svg\" alt=\"Open In Colab\"/></a>"
      ]
    },
    {
      "cell_type": "code",
      "metadata": {
        "id": "HPV4LMbmxKaV"
      },
      "source": [
        "from google.colab import drive\n",
        "drive.mount('/content/drive/')"
      ],
      "execution_count": null,
      "outputs": []
    },
    {
      "cell_type": "code",
      "metadata": {
        "id": "7DMgSm-UxQgL"
      },
      "source": [
        "pip install -U --force-reinstall --no-dependencies git+https://github.com/datumbox/keras@bugfix/trainable_bn"
      ],
      "execution_count": null,
      "outputs": []
    },
    {
      "cell_type": "code",
      "metadata": {
        "id": "_xcBL-dqxU4m"
      },
      "source": [
        "!pip install livelossplot"
      ],
      "execution_count": null,
      "outputs": []
    },
    {
      "cell_type": "code",
      "metadata": {
        "id": "GpqJGE7xxXcm"
      },
      "source": [
        "from google.colab import drive, files\n",
        "import keras\n",
        "import keras.utils\n",
        "from keras.applications.resnet50 import ResNet50\n",
        "from keras.preprocessing import image\n",
        "from keras.applications.resnet50 import preprocess_input, decode_predictions\n",
        "from keras.models import Model\n",
        "import numpy as np\n",
        "from keras.preprocessing.image import ImageDataGenerator\n",
        "from tensorflow.python.keras.models import Sequential\n",
        "from keras.layers import Conv2D, MaxPooling2D\n",
        "from keras.layers import Activation, Dropout, Flatten, Dense, BatchNormalization,GlobalAveragePooling2D\n",
        "from keras.optimizers import SGD\n",
        "from keras.optimizers import Adadelta\n",
        "from keras import backend as K"
      ],
      "execution_count": null,
      "outputs": []
    },
    {
      "cell_type": "code",
      "metadata": {
        "id": "3lCHuzu9xZtR"
      },
      "source": [
        "\n",
        "plot_losses = livelossplot.PlotLossesKeras()\n",
        "\n",
        "IMAGE_SIZE = 224\n",
        "IMAGE_WIDTH, IMAGE_HEIGHT = IMAGE_SIZE, IMAGE_SIZE\n",
        "EPOCHS = 30\n",
        "BATCH_SIZE = 64\n",
        "TEST_SIZE = 30\n",
        "seed=42\n",
        "input_shape = (IMAGE_WIDTH, IMAGE_HEIGHT, 3)\n",
        "\n",
        "model = Sequential()\n",
        "K.set_learning_phase(1)\n",
        "np.random.seed(seed)\n",
        "base_model = ResNet50(weights='imagenet', include_top=False)\n",
        "\n",
        "# for layer in model.layers[:140]:\n",
        "#    layer.trainable = False\n",
        "\n",
        "# for layer in model.layers[140:]:\n",
        "#    layer.trainable = True\n",
        "\n",
        "\n",
        "alpha = 0.00002  # weight decay coefficient\n",
        "\n",
        "for layer in model.layers:\n",
        "    if isinstance(layer, keras.layers.Conv2D) or isinstance(layer, keras.layers.Dense):\n",
        "        layer.add_loss(lambda: keras.regularizers.l2(alpha)(layer.kernel))\n",
        "    if hasattr(layer, 'bias_regularizer') and layer.use_bias:\n",
        "        layer.add_loss(lambda: keras.regularizers.l2(alpha)(layer.bias))\n",
        "\n",
        "initial_lrate=0.01\n",
        "iteration=200\n",
        "decay=0.01\n",
        "lrate = initial_lrate * (1 / (1 + decay * iteration))\n",
        "\n",
        "x = base_model.output\n",
        "x = GlobalAveragePooling2D(data_format='channels_last')(x)\n",
        "\n",
        "#x = Dropout(0.7)(x)\n",
        "x = Dense(2, activation='softmax')(x)\n",
        "\n",
        "model = Model(base_model.input, x)\n",
        "\n",
        "model.compile(loss='categorical_crossentropy',\n",
        "            optimizer=SGD(lr=lrate),\n",
        "            metrics=['accuracy'])"
      ],
      "execution_count": null,
      "outputs": []
    },
    {
      "cell_type": "code",
      "metadata": {
        "id": "NldJcBetxeAF",
        "colab": {
          "base_uri": "https://localhost:8080/",
          "height": 54
        },
        "outputId": "9ff30e5e-3bcf-4b7a-9634-b28b15f80380"
      },
      "source": [
        "\n",
        "\n",
        "#path = \"/content/drive/My Drive/CNRPark-Patches-150x150/\"\n",
        "path = \"/content/drive/My Drive/pklotmix/\"\n",
        "train_data_dir = path + \"train1\"\n",
        "valid_data_dir = path + \"validation\"\n",
        "\n",
        "\n",
        "# Data augmentation\n",
        "\n",
        "training_data_generator = ImageDataGenerator(\n",
        "    preprocessing_function=keras.applications.resnet50.preprocess_input,\n",
        "    rescale=1./255,\n",
        "    shear_range=0.1,\n",
        "    zoom_range=0.1,\n",
        "    horizontal_flip=True)\n",
        "\n",
        "# Data preparation\n",
        "training_generator = training_data_generator.flow_from_directory(\n",
        "    train_data_dir,\n",
        "    target_size=(IMAGE_WIDTH, IMAGE_HEIGHT),\n",
        "    batch_size=BATCH_SIZE,\n",
        "    class_mode=\"categorical\")\n",
        "\n",
        "\n",
        "# Validation Data augmentation\n",
        "valid_data_generator = ImageDataGenerator(\n",
        "    preprocessing_function=keras.applications.resnet50.preprocess_input,\n",
        "    rescale=1./255)\n",
        "\n",
        "# Validation Data preparation\n",
        "valid_generator = training_data_generator.flow_from_directory(\n",
        "    valid_data_dir,\n",
        "    target_size=(IMAGE_WIDTH, IMAGE_HEIGHT),\n",
        "    batch_size=BATCH_SIZE,\n",
        "    class_mode=\"categorical\")\n",
        "\n",
        "\n"
      ],
      "execution_count": null,
      "outputs": [
        {
          "output_type": "stream",
          "text": [
            "Found 17160 images belonging to 2 classes.\n",
            "Found 5038 images belonging to 2 classes.\n"
          ],
          "name": "stdout"
        }
      ]
    },
    {
      "cell_type": "code",
      "metadata": {
        "id": "cnvAp_-cxpyJ",
        "colab": {
          "base_uri": "https://localhost:8080/",
          "height": 455
        },
        "outputId": "c4b431ea-6b42-42f6-e045-c5271ceb5d21"
      },
      "source": [
        "K.set_learning_phase(1)\n",
        "history = model.fit_generator(\n",
        "    training_generator,\n",
        "    steps_per_epoch=len(training_generator.filenames) // BATCH_SIZE,\n",
        "    epochs=EPOCHS,\n",
        "    callbacks=[plot_losses],\n",
        "    validation_data = valid_generator,\n",
        "    validation_steps = 30,\n",
        "    verbose=1)\n"
      ],
      "execution_count": null,
      "outputs": [
        {
          "output_type": "display_data",
          "data": {
            "image/png": "[encoded data removed]",
            "text/plain": [
              "<Figure size 864x576 with 2 Axes>"
            ]
          },
          "metadata": {
            "tags": []
          }
        },
        {
          "output_type": "stream",
          "text": [
            "Log-loss (cost function):\n",
            "training   (min:    0.001, max:    0.050, cur:    0.001)\n",
            "validation (min:    0.197, max:    0.324, cur:    0.233)\n",
            "\n",
            "Accuracy:\n",
            "training   (min:    0.991, max:    1.000, cur:    1.000)\n",
            "validation (min:    0.870, max:    0.917, cur:    0.913)\n"
          ],
          "name": "stdout"
        }
      ]
    },
    {
      "cell_type": "code",
      "metadata": {
        "id": "7vP0ZNsTxt6O"
      },
      "source": [
        "!pip install -U -q PyDrive\n",
        "from pydrive.auth import GoogleAuth\n",
        "from pydrive.drive import GoogleDrive\n",
        "from google.colab import auth\n",
        "from oauth2client.client import GoogleCredentials\n",
        "\n",
        "# 1. Authenticate and create the PyDrive client.\n",
        "auth.authenticate_user()\n",
        "gauth = GoogleAuth()\n",
        "gauth.credentials = GoogleCredentials.get_application_default()\n",
        "drive = GoogleDrive(gauth)\n",
        "\n",
        "# 2. Save Keras Model or weights on google drive\n",
        "\n",
        "# create on Colab directory\n",
        "model.save('mymodelpk.h5')\n",
        "model_file = drive.CreateFile({'title' : 'mymodelpk.h5'})\n",
        "model_file.SetContentFile('mymodelpk.h5')\n",
        "model_file.Upload()\n",
        "\n",
        "# download to google drive\n",
        "drive.CreateFile({'id': model_file.get('id')})"
      ],
      "execution_count": null,
      "outputs": []
    },
    {
      "cell_type": "code",
      "metadata": {
        "id": "_VDEmCSdxxiP"
      },
      "source": [
        "model.save_weights('mymodelpk_weights.h5')\n",
        "weight_file = drive.CreateFile({'title' : 'mymodelpk_weights.h5'})\n",
        "weight_file.SetContentFile('mymodelpk_weights.h5')\n",
        "weight_file.Upload()\n",
        "\n",
        "# download to google drive\n",
        "drive.CreateFile({'id': weight_file.get('id')})"
      ],
      "execution_count": null,
      "outputs": []
    },
    {
      "cell_type": "code",
      "metadata": {
        "id": "9caOyAV3x0Dq",
        "colab": {
          "base_uri": "https://localhost:8080/",
          "height": 35
        },
        "outputId": "b7d2b079-aa4d-4704-910d-4ba552576976"
      },
      "source": [
        "K.set_learning_phase(0)\n",
        "test_data_dir = \"/content/drive/My Drive/pklotmix/test/\"\n",
        "#test_data_dir = \"/content/drive/My Drive/test/\"\n",
        "test_data_generator = ImageDataGenerator(rescale=1./255,preprocessing_function=keras.applications.resnet50.preprocess_input)\n",
        "test_generator = test_data_generator.flow_from_directory(\n",
        "    test_data_dir,\n",
        "    target_size=(224, 224),\n",
        "    batch_size=2,\n",
        "    class_mode=\"categorical\",\n",
        "    shuffle=False)"
      ],
      "execution_count": null,
      "outputs": [
        {
          "output_type": "stream",
          "text": [
            "Found 2244 images belonging to 2 classes.\n"
          ],
          "name": "stdout"
        }
      ]
    },
    {
      "cell_type": "code",
      "metadata": {
        "id": "UNt796xS18gP",
        "colab": {
          "base_uri": "https://localhost:8080/",
          "height": 54
        },
        "outputId": "8cb941b1-b497-4354-95f2-5cec46ea71ed"
      },
      "source": [
        "score=model.evaluate_generator(test_generator,steps=len(test_generator.filenames)//8)\n",
        "\n",
        "print(score[0])\n",
        "print(score[1])"
      ],
      "execution_count": null,
      "outputs": [
        {
          "output_type": "stream",
          "text": [
            "0.02109833694744988\n",
            "0.9982142857142857\n"
          ],
          "name": "stdout"
        }
      ]
    },
    {
      "cell_type": "code",
      "metadata": {
        "id": "oHtn3liK2CD7"
      },
      "source": [
        "test_generator.reset()"
      ],
      "execution_count": null,
      "outputs": []
    },
    {
      "cell_type": "code",
      "metadata": {
        "id": "D8SG9juq2FgY",
        "colab": {
          "base_uri": "https://localhost:8080/",
          "height": 35
        },
        "outputId": "6695410c-9213-4c91-d024-a3519e0658c2"
      },
      "source": [
        "import keras\n",
        "from keras import backend as K\n",
        "from keras.preprocessing.image import ImageDataGenerator\n",
        "K.set_learning_phase(0)\n",
        "#test_data_dir = \"/content/drive/My Drive/pklotmix/test/\"\n",
        "test_data_dir = \"/content/drive/My Drive/test/\"\n",
        "test_data_generator = ImageDataGenerator(rescale=1./255,preprocessing_function=keras.applications.resnet50.preprocess_input)\n",
        "test_generator = test_data_generator.flow_from_directory(\n",
        "    test_data_dir,\n",
        "    target_size=(224, 224),\n",
        "    batch_size=2,\n",
        "    class_mode=\"categorical\",\n",
        "    shuffle=False)"
      ],
      "execution_count": null,
      "outputs": [
        {
          "output_type": "stream",
          "text": [
            "Found 2518 images belonging to 2 classes.\n"
          ],
          "name": "stdout"
        }
      ]
    },
    {
      "cell_type": "code",
      "metadata": {
        "id": "TRnMTCgB2HSU",
        "colab": {
          "base_uri": "https://localhost:8080/",
          "height": 54
        },
        "outputId": "c9c56b44-d4c4-4786-90be-f5eb75630a8b"
      },
      "source": [
        "score=model.evaluate_generator(test_generator,steps=len(test_generator.filenames)//128)\n",
        "\n",
        "print(score[0])\n",
        "print(score[1])"
      ],
      "execution_count": null,
      "outputs": [
        {
          "output_type": "stream",
          "text": [
            "0.09297746763025459\n",
            "0.9736842105263158\n"
          ],
          "name": "stdout"
        }
      ]
    }
  ]
}